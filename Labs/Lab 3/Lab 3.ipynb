{
 "cells": [
  {
   "cell_type": "markdown",
   "source": [
    "# Lab Three\n",
    "---\n",
    "\n",
    "Ok for this lab we're going to reiterate a lot of the things that we went over in class.\n",
    "\n",
    "Our Goals are:\n",
    "- Understanding Variable Types\n",
    "- Defining Variables\n",
    "- Using Conditionals\n",
    "- Using Loops\n",
    "- Creating Objects\n",
    "- Writing a function\n"
   ],
   "metadata": {}
  },
  {
   "cell_type": "markdown",
   "source": [
    "## What's the difference between Null and undefined?\r\n",
    "The difference between null and undefined is that null has no value on purpose while undefined is declared but not yet defined. "
   ],
   "metadata": {}
  },
  {
   "cell_type": "markdown",
   "source": [
    "## List the 3 Variable Types and Use Them!\r\n",
    "The three variable types are var, let, and const.\r\n",
    "var myName = \"Easton\";\r\n",
    "let myName = \"Easton\";\r\n",
    "const myName = \"Easton;"
   ],
   "metadata": {}
  },
  {
   "cell_type": "markdown",
   "source": [
    "## Use an If/Else If/Else Statement and a Switch Case statement\r\n",
    "if (5===5)\r\n",
    "    console.log(\"Yes 5 does equal 5.\");\r\n",
    "else if (5===6)\r\n",
    "    console.log(\"5 equals 6?\");\r\n",
    "else\r\n",
    "    console.log(\"woah.\")\r\n",
    "\r\n",
    "\r\n",
    "var element = (\"Air\");\r\n",
    "switch(element) {\r\n",
    "    case \"Fire\":\r\n",
    "        console.log(\"Lightning bending is overpowered.\");\r\n",
    "        break;\r\n",
    "    case \"Earth\":\r\n",
    "        console.log(\"Imagine being able to metal bend...\");\r\n",
    "        break;\r\n",
    "    case \"Water\":\r\n",
    "        console.log(\"Blood-bending is crazy.\");\r\n",
    "        break;\r\n",
    "    case \"Air\":\r\n",
    "        console.log(\"Air bending is the coolest.\");\r\n",
    "        break;\r\n",
    "}"
   ],
   "metadata": {}
  },
  {
   "cell_type": "markdown",
   "source": [
    "## Use a For and a While Loop\r\n",
    "for (var i = 5; i<=5; i++){\r\n",
    "    console.log(\"Have a great day!\");\r\n",
    "}\r\n",
    "\r\n",
    "var i = 5;\r\n",
    "while (i<5){\r\n",
    "    console.log(\"The value of i is less than 5\");\r\n",
    "    i++;\r\n",
    "}"
   ],
   "metadata": {}
  },
  {
   "cell_type": "markdown",
   "source": [
    "## Make an object!\r\n",
    "\r\n",
    "let iceCream = {\r\n",
    "    flavor = \"Strawberry\",\r\n",
    "    scoops = \"3\",\r\n",
    "    toppings = [\"Gummy Bears\", \"Hot Fudge\", \"Whipped Cream\", \"Sprinkles\"],\r\n",
    "}\r\n",
    "\r\n",
    "console.log(iceCream);"
   ],
   "metadata": {}
  },
  {
   "cell_type": "markdown",
   "source": [
    "## Make a function, It can do anything!\r\n",
    "\r\n",
    "let x = myFunction(5,10);\r\n",
    "function myFunction(a, b){\r\n",
    "    return b-a;\r\n",
    "}\r\n"
   ],
   "metadata": {}
  },
  {
   "cell_type": "markdown",
   "source": [
    "## Optional: Checkout HackerRank and try a problem in Javascript"
   ],
   "metadata": {}
  }
 ],
 "metadata": {
  "orig_nbformat": 4,
  "language_info": {
   "name": "javascript",
   "version": "10.22.0",
   "mimetype": "application/javascript",
   "file_extension": ".js"
  },
  "kernelspec": {
   "name": "javascript",
   "display_name": "Javascript (Node.js)",
   "language": "javascript"
  }
 },
 "nbformat": 4,
 "nbformat_minor": 2
}
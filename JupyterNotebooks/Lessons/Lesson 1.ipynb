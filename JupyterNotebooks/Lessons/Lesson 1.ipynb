{
 "cells": [
  {
   "cell_type": "markdown",
   "metadata": {},
   "source": [
    "# Software Development 2\n",
    "Topics for today will include:\n",
    "- Syllabus\n",
    "    - Class Style\n",
    "    - Assignments\n",
    "    - Labs\n",
    "    - Final Project\n",
    "    - Demo of the Final Project\n",
    "- What you working in?\n",
    "- What is Agile?\n",
    "- Raw HTML\n",
    "- Pure CSS\n",
    "- Hello Javascript\n",
    "- Node\n",
    "- NPM\n",
    "- Lab Time\n",
    "\n",
    "If you'd like to take notes in this Jupyter Notebook, I **HIGHLY RECOMMEND** you make a duplicate, add the word student or something to the name so you don't get a merge conflict!"
   ]
  },
  {
   "cell_type": "markdown",
   "metadata": {},
   "source": [
    "## Syllabus!\n",
    "[Find that here!](https://ilearn.marist.edu/access/content/group/7cd1aac3-f42d-4971-8637-c3891caae5ab/Syllabus/CMPT221L_Syllabus_21F.pdf)"
   ]
  },
  {
   "cell_type": "markdown",
   "metadata": {},
   "source": [
    "## Final Project Demo!\n",
    "Placeholder so I don't forget to talk about it!"
   ]
  },
  {
   "cell_type": "markdown",
   "metadata": {},
   "source": [
    "## What Are You Working In?\n",
    "\n",
    "_**This document that you're currently looking at is called a Jupyter Notebook!**_ We'll be using this to share class notes this year!\n",
    "\n",
    "Basically this allows us to have notes and run code in the same interface. This is useful so for things like class and labs I can provide instructions for you doing things as well as examples and it can all be in one place. You can also get the notes that I use to teach the class!\n",
    "\n",
    "Something that's nice about these notebooks is that although they started with only Python it's grown to support a lot of other languages! Including Javascript which we'll be using this semester!\n",
    "\n",
    "We'll be talking about installing this and getting running in it in the lab today!"
   ]
  },
  {
   "cell_type": "markdown",
   "metadata": {},
   "source": [
    "## What is Agile?\n",
    "\n",
    "Before we get started, let's answer the question. _**Without knowing anything what do we think agile means?**_\n",
    "\n",
    "![WaterfallVSAgile](../../Assets/Images/WaterfallVSAgile.jpg)\n",
    "\n",
    "In Computer Science things are constantly changing. Something that is interesting about that is that it requires the people involved in it's craft to constantly be on their toes. We're constantly looking for preformance increases. Searching for the next fastest thing. Something that that eventually caused us to do is look at the way that we work with on another. Ultimately we're all human. We're inefficent we're going to make mistakes. _**So, we should have a system that does what? How do we solve these issues?**_\n",
    "\n",
    "_**If we were to develop a system what would we want to include?**_\n",
    "\n",
    "[The Agile Manifesto](https://www.agilealliance.org/agile101/the-agile-manifesto/)"
   ]
  },
  {
   "cell_type": "markdown",
   "metadata": {},
   "source": [
    "## Raw HTML\n",
    "\n",
    "For now let's ignore the Raw part. _**What is HTML?**_ Is there a cooked version? \n",
    "\n",
    "HTML is a language that we use to build web applications. It's a markup language that does a great job of helping build the foundation of a web application. The language itself isn't very difficult to work with. That being said people still have problems with it from time to time because the lack of complexity can lead to feeling boxed in. \n",
    "\n",
    "[More information about HTML here!](https://developer.mozilla.org/en-US/docs/Web/HTML)\n",
    "\n",
    "_**Now that we know a little about HTML let's go back to the raw part. Why do you think that I put the word raw in front of it?**_\n",
    "\n",
    "We're going to take a look into HTML and start playing with it! For this section we're mainly going to play around and observe!"
   ]
  },
  {
   "cell_type": "markdown",
   "metadata": {},
   "source": [
    "## Pure CSS\n",
    "\n",
    "When we envision a webpage we think of good design, sleek layouts and flashy animaitons! If a website doesn't have these thing's we're not inclined to stay. Actually it can typically be a sign of a sketchy website. What we have right now kinda resembles that sketch feel. We need colors! We need different fonts! WE NEED STYLE!\n",
    "\n",
    "_**So what's CSS anyways?**_\n",
    "\n",
    "[More information about CSS here!](https://developer.mozilla.org/en-US/docs/Web/CSS)\n",
    "\n",
    "Ok so now that we get the gist a little bit it's happened again. _**Why is this CSS Pure? What's so pure about it?**_\n",
    "\n",
    "We're going to talk about and look at some of that now using the raw example that we have above!"
   ]
  },
  {
   "cell_type": "markdown",
   "metadata": {},
   "source": [
    "## Vanilla Javascript\n",
    "\n",
    "Now as we've seen all that we have so far isn't actually code. I mean it is but it isn't, battle for another day. What's important to notice is that it's all been cosmetic and we actually need to have something to control our logic in the background. That's where Javascript comes in! Something to get out of the way immediately! _**Java and Javascript aren't related!**_\n",
    "\n",
    "Now that being said Javascript is a language that's solely responsible for running in the web browser. It was made for the web era by a company called Netscape! Prior to Javascript all web pages were static! With the addition of the JS in 1995 we gained the ability to do so much more with our webpages!\n",
    "\n",
    "[More information about Javascript here!](https://developer.mozilla.org/en-US/docs/Web/JavaScript)\n",
    "[The actual website for Javascript!](https://www.javascript.com)\n",
    "\n",
    "For now we're going to forgo using JavaScript in our browser but we'll use it somewhere else!"
   ]
  },
  {
   "cell_type": "markdown",
   "metadata": {},
   "source": [
    "## Node\n",
    "\n",
    "If you remember above I mentioned that JavaScript was meant to be used in the browser! Sooooo although it was made for the web and is/was primarily used in the web browser it's actually being used on the server side as well nowadays! Now node isn't the first to accomplish that but it's the one that's made it the most popular today!\n",
    "\n",
    "We've hovered past a few things here. _**I've mentioned front-end and back-end a few times, what do we think that means?**_\n",
    "\n",
    "[Node.js Website](https://nodejs.org/en/)"
   ]
  },
  {
   "cell_type": "markdown",
   "metadata": {},
   "source": [
    "## NPM\n",
    " \n",
    "Last but certainly not least we have NPM! _**NPM stands for the Node Package Manager.**_ As Node grew and became a larger framework they began packaging up code and helping with enviornment setup and tear down. NPM makes it easier for programmers to publish and share source code of Node.js packages and is designed to simplify installation, updating, and uninstallation of packages.\n",
    "\n",
    "For those familiar with Python this is pretty similar to Pip!\n",
    "\n",
    "[NPMjs Website](https://www.npmjs.com)"
   ]
  }
 ],
 "metadata": {
  "kernelspec": {
   "display_name": "Javascript (Node.js)",
   "language": "javascript",
   "name": "javascript"
  },
  "language_info": {
   "file_extension": ".js",
   "mimetype": "application/javascript",
   "name": "javascript",
   "version": "10.22.0"
  }
 },
 "nbformat": 4,
 "nbformat_minor": 4
}
